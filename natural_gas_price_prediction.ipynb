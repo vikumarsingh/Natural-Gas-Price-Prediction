{
 "cells": [
  {
   "cell_type": "code",
   "execution_count": 1,
   "id": "d0ae051c",
   "metadata": {},
   "outputs": [],
   "source": [
    "# Importing libraries"
   ]
  },
  {
   "cell_type": "code",
   "execution_count": 1,
   "id": "e878ee2a",
   "metadata": {},
   "outputs": [],
   "source": [
    "import numpy as np\n",
    "import matplotlib.pyplot as plt\n",
    "import pandas as pd"
   ]
  },
  {
   "cell_type": "code",
   "execution_count": 2,
   "id": "44a5467d",
   "metadata": {},
   "outputs": [],
   "source": [
    "# Importing the training set"
   ]
  },
  {
   "cell_type": "code",
   "execution_count": 3,
   "id": "47c4e689",
   "metadata": {},
   "outputs": [],
   "source": [
    "dataset_train = pd.read_csv('natural_gas_price_training_set.csv')\n",
    "training_set = dataset_train.iloc[:, 1:2].values"
   ]
  },
  {
   "cell_type": "code",
   "execution_count": 4,
   "id": "b878d030",
   "metadata": {},
   "outputs": [],
   "source": [
    "# Feature scaling"
   ]
  },
  {
   "cell_type": "code",
   "execution_count": 5,
   "id": "64317234",
   "metadata": {},
   "outputs": [],
   "source": [
    "from sklearn.preprocessing import MinMaxScaler\n",
    "sc = MinMaxScaler(feature_range = (0, 1))\n",
    "training_set_scaled = sc.fit_transform(training_set)"
   ]
  },
  {
   "cell_type": "code",
   "execution_count": 6,
   "id": "dca6f5ea",
   "metadata": {},
   "outputs": [],
   "source": [
    "# Creating a data structure with 60 timesteps and 1 output"
   ]
  },
  {
   "cell_type": "code",
   "execution_count": 7,
   "id": "2cbcd7c8",
   "metadata": {},
   "outputs": [],
   "source": [
    "x_train = []\n",
    "y_train = []\n",
    "for i in range(60, 1866):\n",
    "    x_train.append(training_set_scaled[i-60:i, 0])\n",
    "    y_train.append(training_set_scaled[i, 0])\n",
    "x_train, y_train = np.array(x_train), np.array(y_train)"
   ]
  },
  {
   "cell_type": "code",
   "execution_count": 8,
   "id": "3cc5145b",
   "metadata": {},
   "outputs": [],
   "source": [
    "# Reshaping"
   ]
  },
  {
   "cell_type": "code",
   "execution_count": 9,
   "id": "1748dd29",
   "metadata": {},
   "outputs": [],
   "source": [
    "x_train = np.reshape(x_train, (x_train.shape[0], x_train.shape[1], 1))"
   ]
  },
  {
   "cell_type": "code",
   "execution_count": 10,
   "id": "f7111c98",
   "metadata": {},
   "outputs": [],
   "source": [
    "# Importing the keras libraries and packages"
   ]
  },
  {
   "cell_type": "code",
   "execution_count": 11,
   "id": "4c33681d",
   "metadata": {},
   "outputs": [],
   "source": [
    "from keras.models import Sequential\n",
    "from keras.layers import LSTM\n",
    "from keras.layers import Dense\n",
    "from keras.layers import Dropout"
   ]
  },
  {
   "cell_type": "code",
   "execution_count": 12,
   "id": "b2e33f48",
   "metadata": {},
   "outputs": [],
   "source": [
    "# Initialising the RNN"
   ]
  },
  {
   "cell_type": "code",
   "execution_count": 13,
   "id": "dc9501b4",
   "metadata": {},
   "outputs": [],
   "source": [
    "regressor = Sequential()"
   ]
  },
  {
   "cell_type": "code",
   "execution_count": 14,
   "id": "acf87e83",
   "metadata": {},
   "outputs": [],
   "source": [
    "# Adding the first LSTM layer and some Dropout regularisation "
   ]
  },
  {
   "cell_type": "code",
   "execution_count": 15,
   "id": "3853df25",
   "metadata": {},
   "outputs": [],
   "source": [
    "regressor.add(LSTM(units = 50, return_sequences = True, input_shape = (x_train.shape[1], 1)))\n",
    "regressor.add(Dropout(0.2))"
   ]
  },
  {
   "cell_type": "code",
   "execution_count": 16,
   "id": "a0515442",
   "metadata": {},
   "outputs": [],
   "source": [
    "# Adding the second LSTM layer and some Dropout regularisation "
   ]
  },
  {
   "cell_type": "code",
   "execution_count": 17,
   "id": "605af0c0",
   "metadata": {},
   "outputs": [],
   "source": [
    "regressor.add(LSTM(units = 50, return_sequences = True))\n",
    "regressor.add(Dropout(0.2))"
   ]
  },
  {
   "cell_type": "code",
   "execution_count": 18,
   "id": "213f739f",
   "metadata": {},
   "outputs": [],
   "source": [
    "# Adding the third LSTM layer and some Dropout regularisation "
   ]
  },
  {
   "cell_type": "code",
   "execution_count": 19,
   "id": "e5b49b01",
   "metadata": {},
   "outputs": [],
   "source": [
    "regressor.add(LSTM(units = 50, return_sequences = True))\n",
    "regressor.add(Dropout(0.2))"
   ]
  },
  {
   "cell_type": "code",
   "execution_count": 20,
   "id": "3a141020",
   "metadata": {},
   "outputs": [],
   "source": [
    "# Adding the fourth LSTM layer and some Dropout regularisation "
   ]
  },
  {
   "cell_type": "code",
   "execution_count": 21,
   "id": "0042ca87",
   "metadata": {},
   "outputs": [],
   "source": [
    "regressor.add(LSTM(units = 50))\n",
    "regressor.add(Dropout(0.2))"
   ]
  },
  {
   "cell_type": "code",
   "execution_count": 22,
   "id": "9594a0ee",
   "metadata": {},
   "outputs": [],
   "source": [
    "# Adding the output layer"
   ]
  },
  {
   "cell_type": "code",
   "execution_count": 23,
   "id": "f45771a1",
   "metadata": {},
   "outputs": [],
   "source": [
    "regressor.add(Dense(units = 1))"
   ]
  },
  {
   "cell_type": "code",
   "execution_count": 24,
   "id": "e5c1d2f6",
   "metadata": {},
   "outputs": [],
   "source": [
    "# Compiling the RNN"
   ]
  },
  {
   "cell_type": "code",
   "execution_count": 25,
   "id": "a9fa1ccc",
   "metadata": {},
   "outputs": [],
   "source": [
    "regressor.compile(optimizer = 'adam', loss = 'mean_squared_error')"
   ]
  },
  {
   "cell_type": "code",
   "execution_count": 26,
   "id": "0a341f51",
   "metadata": {},
   "outputs": [],
   "source": [
    "# Fitting the RNN to the training set"
   ]
  },
  {
   "cell_type": "code",
   "execution_count": 27,
   "id": "b110dfc2",
   "metadata": {},
   "outputs": [
    {
     "name": "stdout",
     "output_type": "stream",
     "text": [
      "Epoch 1/100\n",
      "57/57 [==============================] - 32s 230ms/step - loss: 0.0090\n",
      "Epoch 2/100\n",
      "57/57 [==============================] - 12s 207ms/step - loss: 0.0035\n",
      "Epoch 3/100\n",
      "57/57 [==============================] - 12s 208ms/step - loss: 0.0032\n",
      "Epoch 4/100\n",
      "57/57 [==============================] - 13s 220ms/step - loss: 0.0028\n",
      "Epoch 5/100\n",
      "57/57 [==============================] - 12s 206ms/step - loss: 0.0027\n",
      "Epoch 6/100\n",
      "57/57 [==============================] - 13s 220ms/step - loss: 0.0027\n",
      "Epoch 7/100\n",
      "57/57 [==============================] - 17s 290ms/step - loss: 0.0026\n",
      "Epoch 8/100\n",
      "57/57 [==============================] - 13s 219ms/step - loss: 0.0024\n",
      "Epoch 9/100\n",
      "57/57 [==============================] - 11s 201ms/step - loss: 0.0023\n",
      "Epoch 10/100\n",
      "57/57 [==============================] - 11s 190ms/step - loss: 0.0022\n",
      "Epoch 11/100\n",
      "57/57 [==============================] - 11s 199ms/step - loss: 0.0024\n",
      "Epoch 12/100\n",
      "57/57 [==============================] - 11s 199ms/step - loss: 0.0019\n",
      "Epoch 13/100\n",
      "57/57 [==============================] - 11s 198ms/step - loss: 0.0020\n",
      "Epoch 14/100\n",
      "57/57 [==============================] - 11s 199ms/step - loss: 0.0017\n",
      "Epoch 15/100\n",
      "57/57 [==============================] - 11s 200ms/step - loss: 0.0023\n",
      "Epoch 16/100\n",
      "57/57 [==============================] - 11s 197ms/step - loss: 0.0017\n",
      "Epoch 17/100\n",
      "57/57 [==============================] - 11s 200ms/step - loss: 0.0017\n",
      "Epoch 18/100\n",
      "57/57 [==============================] - 11s 198ms/step - loss: 0.0017\n",
      "Epoch 19/100\n",
      "57/57 [==============================] - 13s 224ms/step - loss: 0.0016\n",
      "Epoch 20/100\n",
      "57/57 [==============================] - 11s 194ms/step - loss: 0.0016\n",
      "Epoch 21/100\n",
      "57/57 [==============================] - 12s 202ms/step - loss: 0.0015\n",
      "Epoch 22/100\n",
      "57/57 [==============================] - 11s 198ms/step - loss: 0.0015\n",
      "Epoch 23/100\n",
      "57/57 [==============================] - 11s 196ms/step - loss: 0.0016\n",
      "Epoch 24/100\n",
      "57/57 [==============================] - 11s 191ms/step - loss: 0.0014\n",
      "Epoch 25/100\n",
      "57/57 [==============================] - 12s 208ms/step - loss: 0.0013\n",
      "Epoch 26/100\n",
      "57/57 [==============================] - 12s 219ms/step - loss: 0.0013\n",
      "Epoch 27/100\n",
      "57/57 [==============================] - 12s 208ms/step - loss: 0.0015\n",
      "Epoch 28/100\n",
      "57/57 [==============================] - 12s 202ms/step - loss: 0.0014\n",
      "Epoch 29/100\n",
      "57/57 [==============================] - 12s 217ms/step - loss: 0.0013\n",
      "Epoch 30/100\n",
      "57/57 [==============================] - 12s 206ms/step - loss: 0.0013\n",
      "Epoch 31/100\n",
      "57/57 [==============================] - 11s 194ms/step - loss: 0.0013\n",
      "Epoch 32/100\n",
      "57/57 [==============================] - 11s 196ms/step - loss: 0.0012\n",
      "Epoch 33/100\n",
      "57/57 [==============================] - 11s 192ms/step - loss: 0.0012\n",
      "Epoch 34/100\n",
      "57/57 [==============================] - 11s 196ms/step - loss: 0.0012\n",
      "Epoch 35/100\n",
      "57/57 [==============================] - 12s 202ms/step - loss: 0.0010\n",
      "Epoch 36/100\n",
      "57/57 [==============================] - 12s 215ms/step - loss: 0.0012\n",
      "Epoch 37/100\n",
      "57/57 [==============================] - 11s 192ms/step - loss: 9.0959e-04\n",
      "Epoch 38/100\n",
      "57/57 [==============================] - 11s 195ms/step - loss: 0.0011\n",
      "Epoch 39/100\n",
      "57/57 [==============================] - 11s 194ms/step - loss: 0.0010\n",
      "Epoch 40/100\n",
      "57/57 [==============================] - 11s 194ms/step - loss: 9.0958e-04\n",
      "Epoch 41/100\n",
      "57/57 [==============================] - 11s 197ms/step - loss: 0.0010\n",
      "Epoch 42/100\n",
      "57/57 [==============================] - 11s 199ms/step - loss: 0.0011\n",
      "Epoch 43/100\n",
      "57/57 [==============================] - 11s 196ms/step - loss: 0.0010\n",
      "Epoch 44/100\n",
      "57/57 [==============================] - 11s 194ms/step - loss: 9.0462e-04\n",
      "Epoch 45/100\n",
      "57/57 [==============================] - 11s 196ms/step - loss: 8.5927e-04\n",
      "Epoch 46/100\n",
      "57/57 [==============================] - 12s 208ms/step - loss: 9.4456e-04\n",
      "Epoch 47/100\n",
      "57/57 [==============================] - 11s 195ms/step - loss: 0.0011\n",
      "Epoch 48/100\n",
      "57/57 [==============================] - 11s 201ms/step - loss: 8.3278e-04\n",
      "Epoch 49/100\n",
      "57/57 [==============================] - 11s 190ms/step - loss: 8.9387e-04\n",
      "Epoch 50/100\n",
      "57/57 [==============================] - 11s 193ms/step - loss: 8.2519e-04\n",
      "Epoch 51/100\n",
      "57/57 [==============================] - 12s 203ms/step - loss: 9.7312e-04\n",
      "Epoch 52/100\n",
      "57/57 [==============================] - 13s 226ms/step - loss: 8.8099e-04\n",
      "Epoch 53/100\n",
      "57/57 [==============================] - 12s 201ms/step - loss: 9.5176e-04\n",
      "Epoch 54/100\n",
      "57/57 [==============================] - 11s 192ms/step - loss: 8.5094e-04\n",
      "Epoch 55/100\n",
      "57/57 [==============================] - 11s 192ms/step - loss: 9.0460e-04\n",
      "Epoch 56/100\n",
      "57/57 [==============================] - 12s 204ms/step - loss: 9.0655e-04\n",
      "Epoch 57/100\n",
      "57/57 [==============================] - 12s 203ms/step - loss: 8.3738e-04\n",
      "Epoch 58/100\n",
      "57/57 [==============================] - 11s 201ms/step - loss: 9.2887e-04\n",
      "Epoch 59/100\n",
      "57/57 [==============================] - 11s 197ms/step - loss: 8.9293e-04\n",
      "Epoch 60/100\n",
      "57/57 [==============================] - 13s 225ms/step - loss: 8.8970e-04\n",
      "Epoch 61/100\n",
      "57/57 [==============================] - 11s 187ms/step - loss: 8.1483e-04\n",
      "Epoch 62/100\n",
      "57/57 [==============================] - 11s 195ms/step - loss: 8.2795e-04\n",
      "Epoch 63/100\n",
      "57/57 [==============================] - 11s 190ms/step - loss: 7.0503e-04\n",
      "Epoch 64/100\n",
      "57/57 [==============================] - 11s 199ms/step - loss: 6.6557e-04\n",
      "Epoch 65/100\n",
      "57/57 [==============================] - 11s 194ms/step - loss: 7.6847e-04\n",
      "Epoch 66/100\n",
      "57/57 [==============================] - 11s 201ms/step - loss: 7.7852e-04\n",
      "Epoch 67/100\n",
      "57/57 [==============================] - 11s 188ms/step - loss: 7.8614e-04\n",
      "Epoch 68/100\n",
      "57/57 [==============================] - 11s 196ms/step - loss: 9.5258e-04\n",
      "Epoch 69/100\n",
      "57/57 [==============================] - 11s 192ms/step - loss: 8.2271e-04\n",
      "Epoch 70/100\n",
      "57/57 [==============================] - 11s 192ms/step - loss: 8.4554e-04\n",
      "Epoch 71/100\n",
      "57/57 [==============================] - 11s 192ms/step - loss: 7.6303e-04\n",
      "Epoch 72/100\n",
      "57/57 [==============================] - 12s 213ms/step - loss: 7.2924e-04\n",
      "Epoch 73/100\n",
      "57/57 [==============================] - 11s 194ms/step - loss: 7.2902e-04\n",
      "Epoch 74/100\n",
      "57/57 [==============================] - 11s 189ms/step - loss: 7.2615e-04\n",
      "Epoch 75/100\n",
      "57/57 [==============================] - 11s 194ms/step - loss: 7.7722e-04\n",
      "Epoch 76/100\n",
      "57/57 [==============================] - 11s 193ms/step - loss: 6.4275e-04\n",
      "Epoch 77/100\n",
      "57/57 [==============================] - 11s 196ms/step - loss: 7.3121e-04\n",
      "Epoch 78/100\n",
      "57/57 [==============================] - 11s 193ms/step - loss: 7.5860e-04\n",
      "Epoch 79/100\n",
      "57/57 [==============================] - 11s 195ms/step - loss: 7.9272e-04\n",
      "Epoch 80/100\n",
      "57/57 [==============================] - 11s 193ms/step - loss: 7.3941e-04\n",
      "Epoch 81/100\n",
      "57/57 [==============================] - 11s 193ms/step - loss: 7.4767e-04\n",
      "Epoch 82/100\n",
      "57/57 [==============================] - 11s 192ms/step - loss: 8.4941e-04\n",
      "Epoch 83/100\n",
      "57/57 [==============================] - 11s 195ms/step - loss: 6.5355e-04\n",
      "Epoch 84/100\n",
      "57/57 [==============================] - 12s 201ms/step - loss: 7.4042e-04\n",
      "Epoch 85/100\n",
      "57/57 [==============================] - 11s 195ms/step - loss: 7.5801e-04\n",
      "Epoch 86/100\n",
      "57/57 [==============================] - 11s 193ms/step - loss: 7.1366e-04\n",
      "Epoch 87/100\n",
      "57/57 [==============================] - 11s 193ms/step - loss: 7.8945e-04\n",
      "Epoch 88/100\n",
      "57/57 [==============================] - 11s 194ms/step - loss: 7.9514e-04\n",
      "Epoch 89/100\n",
      "57/57 [==============================] - 12s 210ms/step - loss: 6.9557e-04\n",
      "Epoch 90/100\n",
      "57/57 [==============================] - 14s 239ms/step - loss: 7.4812e-04\n",
      "Epoch 91/100\n",
      "57/57 [==============================] - 14s 248ms/step - loss: 7.0692e-04\n",
      "Epoch 92/100\n",
      "57/57 [==============================] - 11s 190ms/step - loss: 6.3268e-04\n",
      "Epoch 93/100\n",
      "57/57 [==============================] - 11s 192ms/step - loss: 6.8492e-04\n",
      "Epoch 94/100\n",
      "57/57 [==============================] - 11s 193ms/step - loss: 7.1133e-04\n",
      "Epoch 95/100\n",
      "57/57 [==============================] - 11s 195ms/step - loss: 7.1997e-04\n",
      "Epoch 96/100\n"
     ]
    },
    {
     "name": "stdout",
     "output_type": "stream",
     "text": [
      "57/57 [==============================] - 11s 191ms/step - loss: 7.7226e-04\n",
      "Epoch 97/100\n",
      "57/57 [==============================] - 11s 198ms/step - loss: 7.7902e-04\n",
      "Epoch 98/100\n",
      "57/57 [==============================] - 11s 192ms/step - loss: 6.9080e-04\n",
      "Epoch 99/100\n",
      "57/57 [==============================] - 11s 192ms/step - loss: 6.7092e-04\n",
      "Epoch 100/100\n",
      "57/57 [==============================] - 11s 200ms/step - loss: 6.8365e-04\n"
     ]
    },
    {
     "data": {
      "text/plain": [
       "<keras.callbacks.History at 0x185cc9a0>"
      ]
     },
     "execution_count": 27,
     "metadata": {},
     "output_type": "execute_result"
    }
   ],
   "source": [
    "regressor.fit(x_train, y_train, epochs = 100, batch_size = 32)"
   ]
  },
  {
   "cell_type": "code",
   "execution_count": 28,
   "id": "8f3c1c93",
   "metadata": {},
   "outputs": [],
   "source": [
    "# Getting the real Natural Gas Price of 2022"
   ]
  },
  {
   "cell_type": "code",
   "execution_count": 29,
   "id": "1b11eb6c",
   "metadata": {},
   "outputs": [],
   "source": [
    "dataset_test = pd.read_csv('natural_gas_price_test_set.csv')\n",
    "real_natural_gas_price = dataset_test.iloc[:, 1:2].values"
   ]
  },
  {
   "cell_type": "code",
   "execution_count": 30,
   "id": "9d0b6e50",
   "metadata": {},
   "outputs": [],
   "source": [
    "# Getting the predicted Natural Gas Price of 2022"
   ]
  },
  {
   "cell_type": "code",
   "execution_count": 31,
   "id": "f69aea99",
   "metadata": {},
   "outputs": [
    {
     "name": "stdout",
     "output_type": "stream",
     "text": [
      "5/5 [==============================] - 3s 54ms/step\n"
     ]
    }
   ],
   "source": [
    "dataset_total = pd.concat((dataset_train['Price'], dataset_test['Price']), axis = 0)\n",
    "inputs = dataset_total[len(dataset_total) - len(dataset_test) - 60:].values\n",
    "inputs = inputs.reshape(-1, 1)\n",
    "inputs = sc.transform(inputs)\n",
    "x_test = []\n",
    "for i in range(60, 193):\n",
    "    x_test.append(inputs[i-60:i, 0])\n",
    "x_test = np.array(x_test)\n",
    "x_test = np.reshape(x_test, (x_test.shape[0], x_test.shape[1], 1))\n",
    "predicted_natural_gas_price = regressor.predict(x_test)\n",
    "predicted_natural_gas_price = sc.inverse_transform(predicted_natural_gas_price)"
   ]
  },
  {
   "cell_type": "code",
   "execution_count": 32,
   "id": "c1c2c3b6",
   "metadata": {},
   "outputs": [],
   "source": [
    "# Visualising the results"
   ]
  },
  {
   "cell_type": "code",
   "execution_count": 33,
   "id": "5fdfdd2a",
   "metadata": {
    "scrolled": false
   },
   "outputs": [
    {
     "data": {
      "image/png": "[encoded data removed]",
      "text/plain": [
       "<Figure size 432x288 with 1 Axes>"
      ]
     },
     "metadata": {
      "needs_background": "light"
     },
     "output_type": "display_data"
    }
   ],
   "source": [
    "plt.plot(real_natural_gas_price, color = 'red', label = 'Real_Natural_Gas_Price')\n",
    "plt.plot(predicted_natural_gas_price, color = 'blue', label = 'Predicted_Natural_Gas_Price')\n",
    "plt.title('Natural Gas Price Prediction')\n",
    "plt.xlabel('Time')\n",
    "plt.ylabel('Natural Gas Price')\n",
    "plt.legend()\n",
    "plt.show()"
   ]
  },
  {
   "cell_type": "code",
   "execution_count": 37,
   "id": "a998dadd",
   "metadata": {},
   "outputs": [
    {
     "name": "stdout",
     "output_type": "stream",
     "text": [
      "0.5443833244011154\n"
     ]
    }
   ],
   "source": [
    "import math\n",
    "from sklearn.metrics import mean_squared_error\n",
    "rmse = math.sqrt(mean_squared_error(real_natural_gas_price, predicted_natural_gas_price))\n",
    "print(rmse)"
   ]
  }
 ],
 "metadata": {
  "kernelspec": {
   "display_name": "Python 3 (ipykernel)",
   "language": "python",
   "name": "python3"
  },
  "language_info": {
   "codemirror_mode": {
    "name": "ipython",
    "version": 3
   },
   "file_extension": ".py",
   "mimetype": "text/x-python",
   "name": "python",
   "nbconvert_exporter": "python",
   "pygments_lexer": "ipython3",
   "version": "3.8.0"
  }
 },
 "nbformat": 4,
 "nbformat_minor": 5
}
